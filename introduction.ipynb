{
 "cells": [
  {
   "cell_type": "code",
   "execution_count": 1,
   "metadata": {},
   "outputs": [
    {
     "name": "stdout",
     "output_type": "stream",
     "text": [
      "Hello, Graphs!\n"
     ]
    }
   ],
   "source": [
    "print(\"Hello, Graphs!\")"
   ]
  },
  {
   "cell_type": "markdown",
   "metadata": {},
   "source": [
    "A graph is defined as \n",
    "\n",
    "$$ G(V,E) $$ \n",
    "\n",
    "where $V$ is a set of vertices and $E$ are a set of edges. If a graph is directed, then $E$ is a list.\n",
    "\n",
    "<u>Undirected graphs</u>: \n",
    "* $ E \\subseteq \\left\\{(u,v) | u, v \\in V\\right\\} $ (unoredered pairs)\n",
    "* Only connection existence\n",
    "* Edges are a set\n",
    "\n",
    "<u>Directed graphs</u>: \n",
    "* $ E \\subseteq V \\times V $ (ordered pairs)\n",
    "* May contain multiple edges from A to B\n",
    "* Connections may have importance (first connection, second connection)"
   ]
  },
  {
   "cell_type": "code",
   "execution_count": 1,
   "metadata": {},
   "outputs": [
    {
     "name": "stdout",
     "output_type": "stream",
     "text": [
      "Hello, World!\n"
     ]
    }
   ],
   "source": [
    "import numpy as np\n",
    "import matplotlib.pyplot as plt\n",
    "from collections import defaultdict\n",
    "\n",
    "# Graphs\n",
    "class Graph:\n",
    "    def __init__(self, directed=False):\n",
    "        self.directed = directed\n",
    "        self.nodes = set()\n",
    "        self.edges = defaultdict(list) if directed else set()\n",
    "        self.node_features = {}\n",
    "        self.edge_features = {}\n",
    "\n",
    "    \n"
   ]
  }
 ],
 "metadata": {
  "kernelspec": {
   "display_name": "venv",
   "language": "python",
   "name": "python3"
  },
  "language_info": {
   "codemirror_mode": {
    "name": "ipython",
    "version": 3
   },
   "file_extension": ".py",
   "mimetype": "text/x-python",
   "name": "python",
   "nbconvert_exporter": "python",
   "pygments_lexer": "ipython3",
   "version": "3.12.10"
  }
 },
 "nbformat": 4,
 "nbformat_minor": 2
}
